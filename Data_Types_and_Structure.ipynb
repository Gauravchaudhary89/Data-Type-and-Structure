{
  "nbformat": 4,
  "nbformat_minor": 0,
  "metadata": {
    "colab": {
      "provenance": []
    },
    "kernelspec": {
      "name": "python3",
      "display_name": "Python 3"
    },
    "language_info": {
      "name": "python"
    }
  },
  "cells": [
    {
      "cell_type": "markdown",
      "source": [
        "                           **Data Types and Structure**\n",
        "                   \n",
        "\n",
        "1. What are data structures, and why are they important ?\n",
        "\n",
        "  ANS-They are ways of organizing and storing data in a computer so it can be used efficiently.\n",
        "   \n",
        "  Importance:-\n",
        "  \n",
        "  -Make programs faster and use less memory.\n",
        "\n",
        "  -Help organize and manage data.\n",
        "\n",
        "  -Simplify problem-solving.\n",
        "\n",
        "  -Essential for optimizing performance.\n",
        "\n",
        " Examples: Arrays, Linked Lists, Stacks, Queues, Trees, Graphs, Hash Tables.\n",
        "\n",
        "2.  Explain the difference between mutable and immutable data types with examples.\n",
        "\n",
        " ANS-Mutable: Can be changed after creation.\n",
        "   \n",
        " Examples: list, dict, set\n",
        "\n",
        " Immutable: Cannot be changed after creation.\n",
        "  \n",
        " Examples: int, float, str, tuple\n",
        "\n",
        "  Mutable\n",
        "\n",
        " a = [1, 2]\n",
        "\n",
        " a.append(3)  # a becomes [1, 2, 3]\n",
        "\n",
        "  Immutable\n",
        "\n",
        " b = \"hi\"\n",
        "  \n",
        " b = b + \" there\"  # creates new string \"hi there\"\n",
        "\n",
        "3. What are the main differences between lists and tuples in Python ?\n",
        "\n",
        " ANS-List: Mutable, uses [], can be changed.\n",
        "\n",
        "  Tuple: Immutable, uses (), cannot be changed.\n",
        "  \n",
        "  Example:\n",
        "\n",
        "  [1, 2, 3]  # List\n",
        "\n",
        "  (1, 2, 3)  # Tuple\n",
        "\n",
        "\n",
        "4. Describe how dictionaries store data.\n",
        "\n",
        " ANS-A dictionary stores data as key-value pairs.\n",
        "  \n",
        "  Each key is unique and points to a value.\n",
        "\n",
        " Example:\n",
        "\n",
        " student = {\"name\": \"Alice\", \"age\": 20}\n",
        "\n",
        "5. Why might you use a set instead of a list in Python ?\n",
        "\n",
        " ANS-Set: Unordered, no duplicates, fast lookup.\n",
        "\n",
        " List: Ordered, allows duplicates, slower lookup.\n",
        "\n",
        "6. What is a string in Python, and how is it different from a list ?\n",
        "\n",
        " ANS-String:\n",
        "\n",
        " A string is a sequence of characters enclosed in quotes.\n",
        "\n",
        " Example:\n",
        "\n",
        " text = \"Hello\"\n",
        "\n",
        " Difference between list and string:-\n",
        "\n",
        " A string is a fixed sequence of characters.\n",
        "  \n",
        " A list can hold anything and can be modified.\n",
        "\n",
        "\n",
        "7. How do tuples ensure data integrity in Python ?\n",
        "\n",
        " ANS-In Python, tuples are an immutable, ordered collection of elements.\n",
        "\n",
        " Their immutability is key to how they help ensure data integrity.\n",
        "\n",
        " What is Data Integrity in This Context?\n",
        "\n",
        " -Data integrity here means making sure data:\n",
        "\n",
        " -Stays unchanged when it’s not supposed to be changed.\n",
        "\n",
        " -Is reliably consistent throughout the program execution.\n",
        "\n",
        "8. What is a hash table, and how does it relate to dictionaries in Python ?\n",
        "\n",
        " ANS-A hash table is a data structure that maps keys to values using a hash function.\n",
        "\n",
        " -The hash function takes a key and computes an integer (called a hash code).\n",
        "\n",
        " T-hat hash code determines where the value is stored in memory (in an array-like structure called a bucket array).\n",
        "\n",
        " -This allows for very fast lookup, insertion, and deletion — typically O(1) time on average.\n",
        "\n",
        " How Does This Relate to Dictionaries in Python?\n",
        "\n",
        " -In Python, the built-in dict type is implemented using a hash table.\n",
        "\n",
        "9. Can lists contain different data types in Python ?\n",
        "\n",
        " ANS-n Python, a list is a dynamic, ordered collection of items that can hold\n",
        "\n",
        "  elements of any data type, and those types don’t have to be the same within a\n",
        "  \n",
        "  single list.\n",
        "\n",
        "  Example:-\n",
        "\n",
        "  my_list = [42, 'hello', 3.14, True, [1, 2, 3], {'a': 1}]\n",
        "\n",
        " print(my_list)\n",
        "\n",
        "10. Explain why strings are immutable in Python.\n",
        "\n",
        " ANS-Data Integrity: Keeps hash values constant, so strings can safely be used as dictionary keys or set elements.\n",
        "\n",
        " Performance: Enables memory optimization via interning (reusing identical string objects).\n",
        "\n",
        " Thread-Safety: Immutable strings are safe to share across threads without locking.\n",
        "\n",
        " Predictability: Prevents unexpected side effects — any \"change\" to a string creates a new one.\n",
        "\n",
        "11. What advantages do dictionaries offer over lists for certain tasks ?\n",
        "\n",
        " ANS-Faster lookups using keys (O(1))\n",
        "\n",
        " -Store data as key-value pairs\n",
        "\n",
        " -No duplicate keys\n",
        "\n",
        " -Better for mapping related data\n",
        "\n",
        " -More readable and self-descriptive\n",
        "\n",
        "12. Describe a scenario where using a tuple would be preferable over a list.\n",
        "\n",
        " ANS-Storing a fixed set of coordinates (like GPS location or 2D point)\n",
        "\n",
        " Example:\n",
        "  \n",
        " location = (40.7128, -74.0060)  # Latitude, Longitude\n",
        "\n",
        " Why a Tuple is Better:\n",
        "\n",
        " -The data is fixed and should not change.\n",
        "\n",
        " -Immutability ensures the coordinates stay consistent.\n",
        "\n",
        " -Can be safely used as a key in a dictionary or element in a set (since it’s\n",
        "  hashable, unlike a list).\n",
        "\n",
        "13. How do sets handle duplicate values in Python ?\n",
        "\n",
        " ANS-Sets automatically discard duplicate values.\n",
        "\n",
        " When you add elements to a set, any duplicates are ignored — only unique values are kept.\n",
        "\n",
        " Example:-\n",
        "\n",
        " my_set = {1, 2, 2, 3, 3, 3}\n",
        "\n",
        " print(my_set) output:- {1, 2, 3}\n",
        "\n",
        "14.  How does the “in” keyword work differently for lists and dictionaries ?\n",
        "\n",
        " ANS-List:-\tChecks if a value exists in the list\n",
        "\n",
        "  Dictionary:- Checks if a key exists in the dictionary\n",
        "\n",
        "15. Can you modify the elements of a tuple? Explain why or why not.\n",
        "\n",
        " ANS-No — you cannot modify the elements of a tuple.\n",
        "\n",
        " Why?\n",
        "\n",
        " -Because tuples are immutable.\n",
        "\n",
        " -Once a tuple is created:\n",
        "\n",
        " -You can’t change, add, or remove its elements.\n",
        "\n",
        " -Any attempt to do so will raise a TypeError.\n",
        "\n",
        "16. What is a nested dictionary, and give an example of its use case ?\n",
        "\n",
        " ANS-A nested dictionary is a dictionary inside another dictionary.\n",
        "\n",
        " It allows you to store complex, structured data in a clean and organized way\n",
        "\n",
        " using key-value pairs, where some values are themselves dictionaries.\n",
        "\n",
        " Example:-\n",
        "\n",
        " students = {\n",
        "\n",
        "    'Alice': {'age': 20, 'grade': 'A'},\n",
        "\n",
        "    'Bob': {'age': 22, 'grade': 'B'}\n",
        " }\n",
        "\n",
        " print(students['Alice']['grade'])  # Output: A\n",
        "\n",
        " Use Case:\n",
        "\n",
        " -When you need to store related, structured data for multiple entities.\n",
        "\n",
        " Example scenarios:\n",
        "\n",
        " -Student records (name, age, grades)\n",
        "\n",
        " -Product catalogs (product name, price, stock)\n",
        "\n",
        " -User profiles (username, email, preferences)\n",
        "\n",
        "17. Describe the time complexity of accessing elements in a dictionary.\n",
        "\n",
        " ANS-verage case: O(1) (constant time)\n",
        "\n",
        " Worst case: O(n) (very rare, due to hash collisions)\n",
        "\n",
        "18. In what situations are lists preferred over dictionaries ?\n",
        "\n",
        " ANS-Use lists when:\n",
        "\n",
        " -Order matters — you need to maintain the sequence of items.\n",
        "\n",
        " -You’re dealing with a simple collection of values (not key-value pairs).\n",
        "\n",
        " -You need to iterate over all items by position (index).\n",
        "\n",
        " -You don’t need to label or uniquely identify each item.\n",
        "\n",
        " -Duplicate values are allowed and meaningful.\n",
        "\n",
        "19. Why are dictionaries considered unordered, and how does that affect data\n",
        " retrieval ?\n",
        "\n",
        " ANS-Dictionaries are unordered because they use hash tables for fast key-based access, not item positions.\n",
        "\n",
        "20. Explain the difference between a list and a dictionary in terms of data\n",
        " retrieval.\n",
        "\n",
        " ANS-Lists retrieve data by index (position).\n",
        "\n",
        " Dictionaries retrieve data by key.\n",
        "\n",
        " Both are usually O(1) in time.\n",
        "\n",
        "\n",
        "\n",
        "\n",
        "\n",
        "\n",
        "\n",
        "\n",
        "\n",
        "\n",
        "\n",
        "\n",
        "\n",
        "\n",
        "\n",
        "                          **PRACTICAL QUESTION**\n",
        "\n",
        "\n",
        "\n",
        "\n"
      ],
      "metadata": {
        "id": "YBNO7K8xBcxW"
      }
    },
    {
      "cell_type": "code",
      "source": [
        "# 1. Write a code to create a string with your name and print it\n",
        "my_name = \"Gaurav\"\n",
        "print(my_name)"
      ],
      "metadata": {
        "colab": {
          "base_uri": "https://localhost:8080/"
        },
        "id": "erspl3bN2uqR",
        "outputId": "78c3261e-cd9a-47a1-d55a-3b4e13d8946a"
      },
      "execution_count": 2,
      "outputs": [
        {
          "output_type": "stream",
          "name": "stdout",
          "text": [
            "Gaurav\n"
          ]
        }
      ]
    },
    {
      "cell_type": "code",
      "source": [
        "# 2. Write a code to find the length of the string \"Hello World\"\n",
        "print(len(\"Hello World\"))"
      ],
      "metadata": {
        "colab": {
          "base_uri": "https://localhost:8080/"
        },
        "id": "tmP5xsb43fB1",
        "outputId": "8c67c774-4377-46fb-dfac-874a65015f67"
      },
      "execution_count": 3,
      "outputs": [
        {
          "output_type": "stream",
          "name": "stdout",
          "text": [
            "11\n"
          ]
        }
      ]
    },
    {
      "cell_type": "code",
      "source": [
        "# 3. Write a code to slice the first 3 characters from the string \"Python Programming\"\n",
        "text = \"Python Programming\"\n",
        "print(text[:3])"
      ],
      "metadata": {
        "colab": {
          "base_uri": "https://localhost:8080/"
        },
        "id": "0i2q3ev23jHw",
        "outputId": "b6758d0f-c909-43e6-ef11-86a805238f77"
      },
      "execution_count": 4,
      "outputs": [
        {
          "output_type": "stream",
          "name": "stdout",
          "text": [
            "Pyt\n"
          ]
        }
      ]
    },
    {
      "cell_type": "code",
      "source": [
        "# 4. Write a code to convert the string \"hello\" to uppercase\n",
        "print(\"hello\".upper())\n"
      ],
      "metadata": {
        "colab": {
          "base_uri": "https://localhost:8080/"
        },
        "id": "hKh5Z3Yp3mYf",
        "outputId": "fcfe8ba9-536f-4272-ed52-a41ef5d945ce"
      },
      "execution_count": 5,
      "outputs": [
        {
          "output_type": "stream",
          "name": "stdout",
          "text": [
            "HELLO\n"
          ]
        }
      ]
    },
    {
      "cell_type": "code",
      "source": [
        "# 5. Write a code to replace the word \"apple\" with \"orange\" in the string \"I like apple\"\n",
        "sentence = \"I like apple\"\n",
        "print(sentence.replace(\"apple\", \"orange\"))\n"
      ],
      "metadata": {
        "colab": {
          "base_uri": "https://localhost:8080/"
        },
        "id": "7ygIJF9y3phU",
        "outputId": "30b7cc1c-a5ae-427e-8140-663407d08b17"
      },
      "execution_count": 6,
      "outputs": [
        {
          "output_type": "stream",
          "name": "stdout",
          "text": [
            "I like orange\n"
          ]
        }
      ]
    },
    {
      "cell_type": "code",
      "source": [
        "# 6. Write a code to create a list with numbers 1 to 5 and print it\n",
        "numbers = [1, 2, 3, 4, 5]\n",
        "print(numbers)"
      ],
      "metadata": {
        "colab": {
          "base_uri": "https://localhost:8080/"
        },
        "id": "eSY44Yk53uhc",
        "outputId": "54da365d-c03e-41ac-99bf-e2f31d7cfd95"
      },
      "execution_count": 7,
      "outputs": [
        {
          "output_type": "stream",
          "name": "stdout",
          "text": [
            "[1, 2, 3, 4, 5]\n"
          ]
        }
      ]
    },
    {
      "cell_type": "code",
      "source": [
        "\n",
        "# 7. Write a code to append the number 10 to the list [1, 2, 3, 4]\n",
        "nums = [1, 2, 3, 4]\n",
        "nums.append(10)\n",
        "print(nums)"
      ],
      "metadata": {
        "colab": {
          "base_uri": "https://localhost:8080/"
        },
        "id": "ztC1kat-3xTw",
        "outputId": "cde90526-20a3-45bd-d58e-97f9f5941b19"
      },
      "execution_count": 8,
      "outputs": [
        {
          "output_type": "stream",
          "name": "stdout",
          "text": [
            "[1, 2, 3, 4, 10]\n"
          ]
        }
      ]
    },
    {
      "cell_type": "code",
      "source": [
        "# 8. Write a code to remove the number 3 from the list [1, 2, 3, 4, 5]\n",
        "nums2 = [1, 2, 3, 4, 5]\n",
        "nums2.remove(3)\n",
        "print(nums2)"
      ],
      "metadata": {
        "colab": {
          "base_uri": "https://localhost:8080/"
        },
        "id": "yjvytAgH30AI",
        "outputId": "2e5cb442-c411-4cd1-cb13-0e021ce8d207"
      },
      "execution_count": 9,
      "outputs": [
        {
          "output_type": "stream",
          "name": "stdout",
          "text": [
            "[1, 2, 4, 5]\n"
          ]
        }
      ]
    },
    {
      "cell_type": "code",
      "source": [
        "# 9. Write a code to access the second element in the list ['a', 'b', 'c', 'd']\n",
        "letters = ['a', 'b', 'c', 'd']\n",
        "print(letters[1])"
      ],
      "metadata": {
        "colab": {
          "base_uri": "https://localhost:8080/"
        },
        "id": "7gZuMfhe5zhc",
        "outputId": "fdab2bdf-0fcb-441a-971a-0443eae7a359"
      },
      "execution_count": 31,
      "outputs": [
        {
          "output_type": "stream",
          "name": "stdout",
          "text": [
            "b\n"
          ]
        }
      ]
    },
    {
      "cell_type": "code",
      "source": [
        "# 10. Write a code to reverse the list [10, 20, 30, 40, 50]\n",
        "lst = [10, 20, 30, 40, 50]\n",
        "lst.reverse()\n",
        "print(lst)"
      ],
      "metadata": {
        "colab": {
          "base_uri": "https://localhost:8080/"
        },
        "id": "2K4DtlvM3248",
        "outputId": "fb21317e-c943-4d57-d92b-453cdc1b074e"
      },
      "execution_count": 10,
      "outputs": [
        {
          "output_type": "stream",
          "name": "stdout",
          "text": [
            "[50, 40, 30, 20, 10]\n"
          ]
        }
      ]
    },
    {
      "cell_type": "code",
      "source": [
        "# 11. Write a code to create a tuple with the elements 100, 200, 300 and print it\n",
        "tup = (100, 200, 300)\n",
        "print(tup)"
      ],
      "metadata": {
        "colab": {
          "base_uri": "https://localhost:8080/"
        },
        "id": "K08QOuRX4LI5",
        "outputId": "af188018-73ca-44a4-e6b4-f57adc6add22"
      },
      "execution_count": 11,
      "outputs": [
        {
          "output_type": "stream",
          "name": "stdout",
          "text": [
            "(100, 200, 300)\n"
          ]
        }
      ]
    },
    {
      "cell_type": "code",
      "source": [
        "# 12. Write a code to access the second-to-last element of the tuple ('red', 'green', 'blue', 'yellow')\n",
        "colors = ('red', 'green', 'blue', 'yellow')\n",
        "print(colors[-2])"
      ],
      "metadata": {
        "colab": {
          "base_uri": "https://localhost:8080/"
        },
        "id": "z5k0Hjey4VY5",
        "outputId": "f7652b29-bb6b-43f6-eb07-c153f90cde18"
      },
      "execution_count": 12,
      "outputs": [
        {
          "output_type": "stream",
          "name": "stdout",
          "text": [
            "blue\n"
          ]
        }
      ]
    },
    {
      "cell_type": "code",
      "source": [
        "# 13. Write a code to find the minimum number in the tuple (10, 20, 5, 15)\n",
        "nums_tuple = (10, 20, 5, 15)\n",
        "print(min(nums_tuple))\n"
      ],
      "metadata": {
        "colab": {
          "base_uri": "https://localhost:8080/"
        },
        "id": "_Htrh-bx4XJR",
        "outputId": "220538c9-b94c-48e0-9bca-a8e1d13dfd2a"
      },
      "execution_count": 13,
      "outputs": [
        {
          "output_type": "stream",
          "name": "stdout",
          "text": [
            "5\n"
          ]
        }
      ]
    },
    {
      "cell_type": "code",
      "source": [
        "# 14. Write a code to find the index of the element \"cat\" in the tuple ('dog', 'cat', 'rabbit')\n",
        "animals = ('dog', 'cat', 'rabbit')\n",
        "print(animals.index(\"cat\"))"
      ],
      "metadata": {
        "colab": {
          "base_uri": "https://localhost:8080/"
        },
        "id": "6eox9n294aAn",
        "outputId": "a54e253d-2791-44a9-a178-07c82e0bd2ef"
      },
      "execution_count": 14,
      "outputs": [
        {
          "output_type": "stream",
          "name": "stdout",
          "text": [
            "1\n"
          ]
        }
      ]
    },
    {
      "cell_type": "code",
      "source": [
        "# 15. Write a code to create a tuple containing three different fruits and check if \"kiwi\" is in it\n",
        "fruits = (\"apple\", \"banana\", \"cherry\")\n",
        "print(\"kiwi\" in fruits)"
      ],
      "metadata": {
        "colab": {
          "base_uri": "https://localhost:8080/"
        },
        "id": "HE9nebaW4c3-",
        "outputId": "336f758d-38ba-4e2c-a513-2b01f8409e24"
      },
      "execution_count": 15,
      "outputs": [
        {
          "output_type": "stream",
          "name": "stdout",
          "text": [
            "False\n"
          ]
        }
      ]
    },
    {
      "cell_type": "code",
      "source": [
        "# 16. Write a code to create a set with the elements 'a', 'b', 'c' and print it\n",
        "my_set = {'a', 'b', 'c'}\n",
        "print(my_set)\n"
      ],
      "metadata": {
        "colab": {
          "base_uri": "https://localhost:8080/"
        },
        "id": "jR9OHORk4g5I",
        "outputId": "4e3f4dd9-3244-4d95-fb6f-8aea32187214"
      },
      "execution_count": 16,
      "outputs": [
        {
          "output_type": "stream",
          "name": "stdout",
          "text": [
            "{'b', 'a', 'c'}\n"
          ]
        }
      ]
    },
    {
      "cell_type": "code",
      "source": [
        "# 17. Write a code to clear all elements from the set {1, 2, 3, 4, 5}\n",
        "s = {1, 2, 3, 4, 5}\n",
        "s.clear()\n",
        "print(s)"
      ],
      "metadata": {
        "colab": {
          "base_uri": "https://localhost:8080/"
        },
        "id": "QT5Gxn3L4klI",
        "outputId": "284810ac-69ba-44e6-86fa-4e72c30a1886"
      },
      "execution_count": 17,
      "outputs": [
        {
          "output_type": "stream",
          "name": "stdout",
          "text": [
            "set()\n"
          ]
        }
      ]
    },
    {
      "cell_type": "code",
      "source": [
        "# 18. Write a code to remove the element 4 from the set {1, 2, 3, 4}\n",
        "s2 = {1, 2, 3, 4}\n",
        "s2.remove(4)\n",
        "print(s2)"
      ],
      "metadata": {
        "colab": {
          "base_uri": "https://localhost:8080/"
        },
        "id": "a4k6lWN84nOk",
        "outputId": "7f3ce041-afb2-4e2c-d973-2d67301108e7"
      },
      "execution_count": 18,
      "outputs": [
        {
          "output_type": "stream",
          "name": "stdout",
          "text": [
            "{1, 2, 3}\n"
          ]
        }
      ]
    },
    {
      "cell_type": "code",
      "source": [
        "# 19. Write a code to find the union of two sets {1, 2, 3} and {3, 4, 5}\n",
        "set1 = {1, 2, 3}\n",
        "set2 = {3, 4, 5}\n",
        "print(set1.union(set2))\n"
      ],
      "metadata": {
        "colab": {
          "base_uri": "https://localhost:8080/"
        },
        "id": "U18qYUS54q1y",
        "outputId": "7ec63074-a1eb-4f37-f4d9-a3d525769e26"
      },
      "execution_count": 19,
      "outputs": [
        {
          "output_type": "stream",
          "name": "stdout",
          "text": [
            "{1, 2, 3, 4, 5}\n"
          ]
        }
      ]
    },
    {
      "cell_type": "code",
      "source": [
        "# 20. Write a code to find the intersection of two sets {1, 2, 3} and {2, 3, 4}\n",
        "print(set1.intersection({2, 3, 4}))\n"
      ],
      "metadata": {
        "colab": {
          "base_uri": "https://localhost:8080/"
        },
        "id": "ijsMhgUF4vwt",
        "outputId": "51878dcc-703a-428b-adae-d1f71ddd1edf"
      },
      "execution_count": 20,
      "outputs": [
        {
          "output_type": "stream",
          "name": "stdout",
          "text": [
            "{2, 3}\n"
          ]
        }
      ]
    },
    {
      "cell_type": "code",
      "source": [
        "# 21. Write a code to create a dictionary with the keys \"name\", \"age\", and \"city\", and print it\n",
        "person = {\"name\": \"John\", \"age\": 30, \"city\": \"New York\"}\n",
        "print(person)\n"
      ],
      "metadata": {
        "colab": {
          "base_uri": "https://localhost:8080/"
        },
        "id": "aZDeGHPL40ny",
        "outputId": "80240fd1-8107-4cb5-d5cd-e138ceb69b04"
      },
      "execution_count": 21,
      "outputs": [
        {
          "output_type": "stream",
          "name": "stdout",
          "text": [
            "{'name': 'John', 'age': 30, 'city': 'New York'}\n"
          ]
        }
      ]
    },
    {
      "cell_type": "code",
      "source": [
        "# 22. Write a code to add a new key-value pair \"country\": \"USA\" to the dictionary {'name': 'John', 'age': 25}\n",
        "person2 = {'name': 'John', 'age': 25}\n",
        "person2[\"country\"] = \"USA\"\n",
        "print(person2)"
      ],
      "metadata": {
        "colab": {
          "base_uri": "https://localhost:8080/"
        },
        "id": "IWf4YemO43V1",
        "outputId": "3e445da9-ef2d-4fee-f19d-511235ba4f6c"
      },
      "execution_count": 22,
      "outputs": [
        {
          "output_type": "stream",
          "name": "stdout",
          "text": [
            "{'name': 'John', 'age': 25, 'country': 'USA'}\n"
          ]
        }
      ]
    },
    {
      "cell_type": "code",
      "source": [
        "# 23. Write a code to access the value associated with the key \"name\" in the dictionary {'name': 'Alice', 'age': 30}\n",
        "person3 = {'name': 'Alice', 'age': 30}\n",
        "print(person3[\"name\"])\n"
      ],
      "metadata": {
        "colab": {
          "base_uri": "https://localhost:8080/"
        },
        "id": "KNrWYZq045ro",
        "outputId": "1c51244d-41b8-4a73-d6ab-2c04020eb2e3"
      },
      "execution_count": 23,
      "outputs": [
        {
          "output_type": "stream",
          "name": "stdout",
          "text": [
            "Alice\n"
          ]
        }
      ]
    },
    {
      "cell_type": "code",
      "source": [
        "# 24. Write a code to remove the key \"age\" from the dictionary {'name': 'Bob', 'age': 22, 'city': 'New York'}\n",
        "person4 = {'name': 'Bob', 'age': 22, 'city': 'New York'}\n",
        "del person4[\"age\"]\n",
        "print(person4)"
      ],
      "metadata": {
        "colab": {
          "base_uri": "https://localhost:8080/"
        },
        "id": "OGa8oYIA5BDZ",
        "outputId": "ea88fd03-ec59-4b5d-947f-5a1a2df6e9c9"
      },
      "execution_count": 24,
      "outputs": [
        {
          "output_type": "stream",
          "name": "stdout",
          "text": [
            "{'name': 'Bob', 'city': 'New York'}\n"
          ]
        }
      ]
    },
    {
      "cell_type": "code",
      "source": [
        "# 25. Write a code to check if the key \"city\" exists in the dictionary {'name': 'Alice', 'city': 'Paris'}\n",
        "person5 = {'name': 'Alice', 'city': 'Paris'}\n",
        "print(\"city\" in person5)\n"
      ],
      "metadata": {
        "colab": {
          "base_uri": "https://localhost:8080/"
        },
        "id": "PsSul_Tr5Dnx",
        "outputId": "d1955c5a-973b-40e6-df1a-95b610f8c20d"
      },
      "execution_count": 25,
      "outputs": [
        {
          "output_type": "stream",
          "name": "stdout",
          "text": [
            "True\n"
          ]
        }
      ]
    },
    {
      "cell_type": "code",
      "source": [
        "# 26. Write a code to create a list, a tuple, and a dictionary, and print them all\n",
        "my_list = [1, 2, 3]\n",
        "my_tuple = (4, 5, 6)\n",
        "my_dict = {\"a\": 1, \"b\": 2}\n",
        "print(my_list)\n",
        "print(my_tuple)\n",
        "print(my_dict)\n"
      ],
      "metadata": {
        "colab": {
          "base_uri": "https://localhost:8080/"
        },
        "id": "4lGho6mh5G_D",
        "outputId": "a3abcca1-428b-4337-a354-02ec7a49d47c"
      },
      "execution_count": 26,
      "outputs": [
        {
          "output_type": "stream",
          "name": "stdout",
          "text": [
            "[1, 2, 3]\n",
            "(4, 5, 6)\n",
            "{'a': 1, 'b': 2}\n"
          ]
        }
      ]
    },
    {
      "cell_type": "code",
      "source": [
        "# 27. Write a code to create a list of 5 random numbers between 1 and 100, sort it in ascending order, and print the result\n",
        "import random\n",
        "rand_nums = [random.randint(1, 100) for _ in range(5)]\n",
        "rand_nums.sort()\n",
        "print(rand_nums)\n"
      ],
      "metadata": {
        "colab": {
          "base_uri": "https://localhost:8080/"
        },
        "id": "QwIKtK5O5OSF",
        "outputId": "87662418-8431-4723-f85b-92d7efe62640"
      },
      "execution_count": 27,
      "outputs": [
        {
          "output_type": "stream",
          "name": "stdout",
          "text": [
            "[5, 19, 41, 58, 65]\n"
          ]
        }
      ]
    },
    {
      "cell_type": "code",
      "source": [
        "# 28. Write a code to create a list with strings and print the element at the third index\n",
        "str_list = [\"apple\", \"banana\", \"cherry\", \"date\", \"elderberry\"]\n",
        "print(str_list[3])\n"
      ],
      "metadata": {
        "colab": {
          "base_uri": "https://localhost:8080/"
        },
        "id": "YKdkhFqA5cUH",
        "outputId": "399fa49f-a844-4576-c525-0ad13df5fb2e"
      },
      "execution_count": 28,
      "outputs": [
        {
          "output_type": "stream",
          "name": "stdout",
          "text": [
            "date\n"
          ]
        }
      ]
    },
    {
      "cell_type": "code",
      "source": [
        "# 29. Write a code to combine two dictionaries into one and print the result\n",
        "dict1 = {\"a\": 1, \"b\": 2}\n",
        "dict2 = {\"c\": 3, \"d\": 4}\n",
        "combined_dict = {**dict1, **dict2}\n",
        "print(combined_dict)"
      ],
      "metadata": {
        "colab": {
          "base_uri": "https://localhost:8080/"
        },
        "id": "Fs6HqKZF5g6h",
        "outputId": "3c1801ad-ba7c-46c4-e2cb-443bcbee6595"
      },
      "execution_count": 29,
      "outputs": [
        {
          "output_type": "stream",
          "name": "stdout",
          "text": [
            "{'a': 1, 'b': 2, 'c': 3, 'd': 4}\n"
          ]
        }
      ]
    },
    {
      "cell_type": "code",
      "source": [
        "# 30. Write a code to convert a list of strings into a set\n",
        "str_list2 = [\"apple\", \"banana\", \"cherry\"]\n",
        "print(set(str_list2))"
      ],
      "metadata": {
        "colab": {
          "base_uri": "https://localhost:8080/"
        },
        "id": "gnRIZ0vR5nFQ",
        "outputId": "04b6434f-3bc8-4792-e812-f82310835318"
      },
      "execution_count": 30,
      "outputs": [
        {
          "output_type": "stream",
          "name": "stdout",
          "text": [
            "{'banana', 'apple', 'cherry'}\n"
          ]
        }
      ]
    }
  ]
}